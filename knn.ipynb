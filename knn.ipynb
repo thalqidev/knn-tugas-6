{
 "cells": [
  {
   "cell_type": "code",
   "execution_count": 1,
   "id": "d3451f5b-228a-42d3-a595-9a3823ee9762",
   "metadata": {},
   "outputs": [
    {
     "name": "stdout",
     "output_type": "stream",
     "text": [
      "Data Awal:\n",
      "    User ID  Gender  Age  EstimatedSalary  Purchased\n",
      "0  15624510    Male   19            19000          0\n",
      "1  15810944    Male   35            20000          0\n",
      "2  15668575  Female   26            43000          0\n",
      "3  15603246  Female   27            57000          0\n",
      "4  15804002    Male   19            76000          0\n",
      "Accuracy: 0.95\n",
      "\n",
      "Classification Report:\n",
      "               precision    recall  f1-score   support\n",
      "\n",
      "           0       0.98      0.95      0.96        58\n",
      "           1       0.88      0.95      0.91        22\n",
      "\n",
      "    accuracy                           0.95        80\n",
      "   macro avg       0.93      0.95      0.94        80\n",
      "weighted avg       0.95      0.95      0.95        80\n",
      "\n"
     ]
    }
   ],
   "source": [
    "# Import library\n",
    "import pandas as pd\n",
    "from sklearn.model_selection import train_test_split\n",
    "from sklearn.preprocessing import StandardScaler, LabelEncoder\n",
    "from sklearn.neighbors import KNeighborsClassifier\n",
    "from sklearn.metrics import accuracy_score, classification_report\n",
    "\n",
    "# Load dataset\n",
    "data = pd.read_csv('Social_Network_Ads.csv')\n",
    "\n",
    "# Tampilkan beberapa data untuk memastikan dataset terbaca dengan benar\n",
    "print(\"Data Awal:\")\n",
    "print(data.head())\n",
    "\n",
    "# Hapus kolom 'User ID' karena tidak berguna untuk analisis\n",
    "data = data.drop(columns=['User ID'])\n",
    "\n",
    "# Mengkodekan kolom 'Jenis Kelamin' menjadi nilai numerik\n",
    "label_encoder = LabelEncoder()\n",
    "data['Gender'] = label_encoder.fit_transform(data['Gender'])\n",
    "\n",
    "# Membagi data menjadi fitur (X) dan target (y)\n",
    "X = data[['Gender', 'Age', 'EstimatedSalary']]\n",
    "y = data['Purchased']\n",
    "\n",
    "#  Membagi data menjadi set pelatihan dan pengujian\n",
    "X_train, X_test, y_train, y_test = train_test_split(X, y, test_size=0.2, random_state=0)\n",
    "\n",
    "# Skala fitur untuk kinerja KNN yang lebih baik\n",
    "scaler = StandardScaler()\n",
    "X_train = scaler.fit_transform(X_train)\n",
    "X_test = scaler.transform(X_test)\n",
    "\n",
    "# Inisialisasi dan latih pengklasifikasi KNN\n",
    "knn = KNeighborsClassifier(n_neighbors=5)  # You can adjust n_neighbors if desired\n",
    "knn.fit(X_train, y_train)\n",
    "\n",
    "# \n",
    "y_pred = knn.predict(X_test)\n",
    "\n",
    "# Evaluate the model's performance\n",
    "accuracy = accuracy_score(y_test, y_pred)\n",
    "report = classification_report(y_test, y_pred)\n",
    "\n",
    "print(\"Accuracy:\", accuracy)\n",
    "print(\"\\nClassification Report:\\n\", report)\n"
   ]
  }
 ],
 "metadata": {
  "kernelspec": {
   "display_name": "Python 3 (ipykernel)",
   "language": "python",
   "name": "python3"
  },
  "language_info": {
   "codemirror_mode": {
    "name": "ipython",
    "version": 3
   },
   "file_extension": ".py",
   "mimetype": "text/x-python",
   "name": "python",
   "nbconvert_exporter": "python",
   "pygments_lexer": "ipython3",
   "version": "3.12.2"
  }
 },
 "nbformat": 4,
 "nbformat_minor": 5
}
